{
 "cells": [
  {
   "cell_type": "code",
   "execution_count": 20,
   "id": "d536f588",
   "metadata": {},
   "outputs": [
    {
     "name": "stdout",
     "output_type": "stream",
     "text": [
      "11234\n",
      "6 5\n"
     ]
    }
   ],
   "source": [
    "#q1\n",
    "num=int(input())\n",
    "odd_sum=0\n",
    "even_sum=0\n",
    "while (num/10!=0):\n",
    "    if(num%2==0):\n",
    "        even_sum+=num%10\n",
    "    else:\n",
    "        odd_sum=odd_sum+num%10\n",
    "    num=num//10\n",
    "print(even_sum,odd_sum)\n"
   ]
  },
  {
   "cell_type": "code",
   "execution_count": 31,
   "id": "5bd3ec85",
   "metadata": {},
   "outputs": [
    {
     "name": "stdout",
     "output_type": "stream",
     "text": [
      "5\n",
      "4 1 8 10 15\n",
      "2\n"
     ]
    }
   ],
   "source": [
    "#q2\n",
    "num=int(input())\n",
    "lis=[int(ele) for ele in input().split()]\n",
    "lis.sort()\n",
    "value=1\n",
    "for i in range(1,len(lis)+1,1):\n",
    "    if(lis[i-1]==value):\n",
    "        value+=1\n",
    "    else:\n",
    "        break\n",
    "print(value)"
   ]
  },
  {
   "cell_type": "code",
   "execution_count": null,
   "id": "7881d75a",
   "metadata": {},
   "outputs": [],
   "source": [
    "#q3\n",
    "import random \n",
    "words = ['rounak', 'kumar', 'tak']\n",
    "\n",
    "word = random.choice(words)\n",
    "print(\"Guess:\")\n",
    "guesses = ''\n",
    "turns = 3\n",
    " \n",
    "while turns > 0:\n",
    "    failed = 0\n",
    "    for char in word:\n",
    "        if char in guesses:\n",
    "            pass\n",
    "        else:\n",
    "            failed += 1\n",
    "    if failed == 0:\n",
    "        print(\"You Win\")\n",
    "        print(\"The word is: \", word)\n",
    "        break\n",
    "\n",
    "    guess = input(\"guess a character:\")\n",
    "    guesses += guess\n",
    "    if guess not in word:\n",
    "         \n",
    "        turns -= 1\n",
    "        print(\"Wrong\")\n",
    "        print(\"You have\", + turns, 'more guesses')\n",
    "        if turns == 0:\n",
    "            print(\"You Loose\")"
   ]
  },
  {
   "cell_type": "code",
   "execution_count": null,
   "id": "a2b809ee",
   "metadata": {},
   "outputs": [],
   "source": []
  },
  {
   "cell_type": "code",
   "execution_count": null,
   "id": "5a6b3be9",
   "metadata": {},
   "outputs": [],
   "source": []
  },
  {
   "cell_type": "code",
   "execution_count": null,
   "id": "5035d170",
   "metadata": {},
   "outputs": [],
   "source": []
  }
 ],
 "metadata": {
  "kernelspec": {
   "display_name": "Python 3 (ipykernel)",
   "language": "python",
   "name": "python3"
  },
  "language_info": {
   "codemirror_mode": {
    "name": "ipython",
    "version": 3
   },
   "file_extension": ".py",
   "mimetype": "text/x-python",
   "name": "python",
   "nbconvert_exporter": "python",
   "pygments_lexer": "ipython3",
   "version": "3.9.10"
  }
 },
 "nbformat": 4,
 "nbformat_minor": 5
}
