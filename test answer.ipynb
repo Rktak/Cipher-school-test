{
 "cells": [
  {
   "cell_type": "code",
   "execution_count": 20,
   "id": "a5b57d1e",
   "metadata": {},
   "outputs": [
    {
     "name": "stdout",
     "output_type": "stream",
     "text": [
      "11234\n",
      "6 5\n"
     ]
    }
   ],
   "source": [
    "#q1\n",
    "num=int(input())\n",
    "odd_sum=0\n",
    "even_sum=0\n",
    "while (num/10!=0):\n",
    "    if(num%2==0):\n",
    "        even_sum+=num%10\n",
    "    else:\n",
    "        odd_sum=odd_sum+num%10\n",
    "    num=num//10\n",
    "print(even_sum,odd_sum)\n"
   ]
  },
  {
   "cell_type": "code",
   "execution_count": 31,
   "id": "420a9059",
   "metadata": {},
   "outputs": [
    {
     "name": "stdout",
     "output_type": "stream",
     "text": [
      "5\n",
      "4 1 8 10 15\n",
      "2\n"
     ]
    }
   ],
   "source": [
    "#q2\n",
    "num=int(input())\n",
    "lis=[int(ele) for ele in input().split()]\n",
    "lis.sort()\n",
    "value=1\n",
    "for i in range(1,len(lis)+1,1):\n",
    "    if(lis[i-1]==value):\n",
    "        value+=1\n",
    "    else:\n",
    "        break\n",
    "print(value)"
   ]
  },
  {
   "cell_type": "code",
   "execution_count": null,
   "id": "6dd8a02f",
   "metadata": {},
   "outputs": [],
   "source": []
  }
 ],
 "metadata": {
  "kernelspec": {
   "display_name": "Python 3 (ipykernel)",
   "language": "python",
   "name": "python3"
  },
  "language_info": {
   "codemirror_mode": {
    "name": "ipython",
    "version": 3
   },
   "file_extension": ".py",
   "mimetype": "text/x-python",
   "name": "python",
   "nbconvert_exporter": "python",
   "pygments_lexer": "ipython3",
   "version": "3.9.10"
  }
 },
 "nbformat": 4,
 "nbformat_minor": 5
}
